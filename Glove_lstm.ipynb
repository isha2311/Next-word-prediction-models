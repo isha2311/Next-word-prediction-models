{
  "nbformat": 4,
  "nbformat_minor": 0,
  "metadata": {
    "colab": {
      "name": "Glove lstm.ipynb",
      "provenance": [],
      "collapsed_sections": []
    },
    "kernelspec": {
      "name": "python3",
      "display_name": "Python 3"
    }
  },
  "cells": [
    {
      "cell_type": "code",
      "metadata": {
        "id": "p4qm3AdJ-ssp",
        "colab_type": "code",
        "colab": {}
      },
      "source": [
        "path = '/content/taleoftwocities.txt'\n",
        "with open(path, encoding='utf8', errors='ignore') as f:\n",
        "  text = f.read().lower()"
      ],
      "execution_count": null,
      "outputs": []
    },
    {
      "cell_type": "markdown",
      "metadata": {
        "id": "jUc73PndAsV-",
        "colab_type": "text"
      },
      "source": [
        "**Data Preprocessing and Visualization**\n"
      ]
    },
    {
      "cell_type": "code",
      "metadata": {
        "id": "-wzjw9-6-uqV",
        "colab_type": "code",
        "colab": {}
      },
      "source": [
        "from nltk.tokenize import RegexpTokenizer\n",
        "tokenizer = RegexpTokenizer(r'\\w+')\n",
        "words = tokenizer.tokenize(text)"
      ],
      "execution_count": null,
      "outputs": []
    },
    {
      "cell_type": "code",
      "metadata": {
        "id": "Ol8fum9J9hFO",
        "colab_type": "code",
        "colab": {
          "base_uri": "https://localhost:8080/",
          "height": 34
        },
        "outputId": "1af507b5-05ec-41cb-c4cb-9db041c1c2a3"
      },
      "source": [
        "from keras.preprocessing.text import Tokenizer\n",
        "import nltk\n",
        "from nltk.tokenize import word_tokenize\n",
        "import numpy as np\n",
        "import re\n",
        "from keras.utils import to_categorical\n",
        "from nltk.tokenize import RegexpTokenizer\n",
        "cleaned = RegexpTokenizer(r'\\w+')\n",
        "tokens = cleaned.tokenize(text)\n",
        "train_len = 3+1\n",
        "text_sequences = []\n",
        "for i in range(train_len,len(tokens)):\n",
        "    seq = tokens[i-train_len:i]\n",
        "    text_sequences.append(seq)\n",
        "sequences = {}\n",
        "count = 1\n",
        "for i in range(len(tokens)):\n",
        "    if tokens[i] not in sequences:\n",
        "        sequences[tokens[i]] = count\n",
        "        count += 1\n",
        "tokenizer = Tokenizer()\n",
        "tokenizer.fit_on_texts(text_sequences)\n",
        "sequences = tokenizer.texts_to_sequences(text_sequences) \n",
        " \n",
        "vocabulary_size = len(tokenizer.word_counts)+1\n",
        "\n",
        "n_sequences = np.empty([len(sequences),train_len], dtype='int32')\n",
        "for i in range(len(sequences)):\n",
        "    n_sequences[i] = sequences[i]"
      ],
      "execution_count": null,
      "outputs": [
        {
          "output_type": "stream",
          "text": [
            "Using TensorFlow backend.\n"
          ],
          "name": "stderr"
        }
      ]
    },
    {
      "cell_type": "code",
      "metadata": {
        "id": "EfQedEKOCUim",
        "colab_type": "code",
        "colab": {
          "base_uri": "https://localhost:8080/",
          "height": 34
        },
        "outputId": "d3cd063f-5208-4b9b-aa43-1962973bc6da"
      },
      "source": [
        "train_inputs = n_sequences[:,:-1]\n",
        "train_targets = n_sequences[:,-1]\n",
        "train_targets = to_categorical(train_targets, num_classes=vocabulary_size)\n",
        "seq_len = train_inputs.shape[1]\n",
        "train_inputs.shape"
      ],
      "execution_count": null,
      "outputs": [
        {
          "output_type": "execute_result",
          "data": {
            "text/plain": [
              "(138134, 3)"
            ]
          },
          "metadata": {
            "tags": []
          },
          "execution_count": 4
        }
      ]
    },
    {
      "cell_type": "code",
      "metadata": {
        "id": "iCnJFCdIhKyE",
        "colab_type": "code",
        "colab": {
          "base_uri": "https://localhost:8080/",
          "height": 799
        },
        "outputId": "965e9cb4-c430-4ffb-f955-707a3dcbd979"
      },
      "source": [
        "nltk.download(\"popular\")\n",
        "import nltk\n",
        "from sklearn.feature_extraction.text import CountVectorizer\n",
        "from matplotlib import pyplot as plt\n",
        "from wordcloud import WordCloud, STOPWORDS\n",
        "WNL = nltk.WordNetLemmatizer()\n",
        "text_content = [''.join(re.split(\"[ .,;:!?‘’``''@#$%^_&*()<>{}~\\n\\t\\\\\\-]\", word)) for word in tokens ]\n",
        "stopwords_wc = set(STOPWORDS)\n",
        "text_content = [word for word in text_content if word not in stopwords_wc]\n",
        "text_content = [s for s in text_content if len(s) != 0]\n",
        "text_content = [WNL.lemmatize(t) for t in text_content]"
      ],
      "execution_count": null,
      "outputs": [
        {
          "output_type": "stream",
          "text": [
            "[nltk_data] Downloading collection 'popular'\n",
            "[nltk_data]    | \n",
            "[nltk_data]    | Downloading package cmudict to /root/nltk_data...\n",
            "[nltk_data]    |   Unzipping corpora/cmudict.zip.\n",
            "[nltk_data]    | Downloading package gazetteers to /root/nltk_data...\n",
            "[nltk_data]    |   Unzipping corpora/gazetteers.zip.\n",
            "[nltk_data]    | Downloading package genesis to /root/nltk_data...\n",
            "[nltk_data]    |   Unzipping corpora/genesis.zip.\n",
            "[nltk_data]    | Downloading package gutenberg to /root/nltk_data...\n",
            "[nltk_data]    |   Unzipping corpora/gutenberg.zip.\n",
            "[nltk_data]    | Downloading package inaugural to /root/nltk_data...\n",
            "[nltk_data]    |   Unzipping corpora/inaugural.zip.\n",
            "[nltk_data]    | Downloading package movie_reviews to\n",
            "[nltk_data]    |     /root/nltk_data...\n",
            "[nltk_data]    |   Unzipping corpora/movie_reviews.zip.\n",
            "[nltk_data]    | Downloading package names to /root/nltk_data...\n",
            "[nltk_data]    |   Unzipping corpora/names.zip.\n",
            "[nltk_data]    | Downloading package shakespeare to /root/nltk_data...\n",
            "[nltk_data]    |   Unzipping corpora/shakespeare.zip.\n",
            "[nltk_data]    | Downloading package stopwords to /root/nltk_data...\n",
            "[nltk_data]    |   Unzipping corpora/stopwords.zip.\n",
            "[nltk_data]    | Downloading package treebank to /root/nltk_data...\n",
            "[nltk_data]    |   Unzipping corpora/treebank.zip.\n",
            "[nltk_data]    | Downloading package twitter_samples to\n",
            "[nltk_data]    |     /root/nltk_data...\n",
            "[nltk_data]    |   Unzipping corpora/twitter_samples.zip.\n",
            "[nltk_data]    | Downloading package omw to /root/nltk_data...\n",
            "[nltk_data]    |   Unzipping corpora/omw.zip.\n",
            "[nltk_data]    | Downloading package wordnet to /root/nltk_data...\n",
            "[nltk_data]    |   Unzipping corpora/wordnet.zip.\n",
            "[nltk_data]    | Downloading package wordnet_ic to /root/nltk_data...\n",
            "[nltk_data]    |   Unzipping corpora/wordnet_ic.zip.\n",
            "[nltk_data]    | Downloading package words to /root/nltk_data...\n",
            "[nltk_data]    |   Unzipping corpora/words.zip.\n",
            "[nltk_data]    | Downloading package maxent_ne_chunker to\n",
            "[nltk_data]    |     /root/nltk_data...\n",
            "[nltk_data]    |   Unzipping chunkers/maxent_ne_chunker.zip.\n",
            "[nltk_data]    | Downloading package punkt to /root/nltk_data...\n",
            "[nltk_data]    |   Unzipping tokenizers/punkt.zip.\n",
            "[nltk_data]    | Downloading package snowball_data to\n",
            "[nltk_data]    |     /root/nltk_data...\n",
            "[nltk_data]    | Downloading package averaged_perceptron_tagger to\n",
            "[nltk_data]    |     /root/nltk_data...\n",
            "[nltk_data]    |   Unzipping taggers/averaged_perceptron_tagger.zip.\n",
            "[nltk_data]    | \n",
            "[nltk_data]  Done downloading collection popular\n"
          ],
          "name": "stdout"
        }
      ]
    },
    {
      "cell_type": "markdown",
      "metadata": {
        "id": "hAmfstmmZqip",
        "colab_type": "text"
      },
      "source": [
        "Pre- trained word embeddings(GLoVE)"
      ]
    },
    {
      "cell_type": "code",
      "metadata": {
        "id": "mGPz3s2_bTks",
        "colab_type": "code",
        "colab": {
          "base_uri": "https://localhost:8080/",
          "height": 357
        },
        "outputId": "6db9f1e6-9553-432b-ab44-f6bf7f9cd92a"
      },
      "source": [
        "!wget http://nlp.stanford.edu/data/glove.6B.zip"
      ],
      "execution_count": null,
      "outputs": [
        {
          "output_type": "stream",
          "text": [
            "--2020-07-30 07:33:23--  http://nlp.stanford.edu/data/glove.6B.zip\n",
            "Resolving nlp.stanford.edu (nlp.stanford.edu)... 171.64.67.140\n",
            "Connecting to nlp.stanford.edu (nlp.stanford.edu)|171.64.67.140|:80... connected.\n",
            "HTTP request sent, awaiting response... 302 Found\n",
            "Location: https://nlp.stanford.edu/data/glove.6B.zip [following]\n",
            "--2020-07-30 07:33:23--  https://nlp.stanford.edu/data/glove.6B.zip\n",
            "Connecting to nlp.stanford.edu (nlp.stanford.edu)|171.64.67.140|:443... connected.\n",
            "HTTP request sent, awaiting response... 301 Moved Permanently\n",
            "Location: http://downloads.cs.stanford.edu/nlp/data/glove.6B.zip [following]\n",
            "--2020-07-30 07:33:24--  http://downloads.cs.stanford.edu/nlp/data/glove.6B.zip\n",
            "Resolving downloads.cs.stanford.edu (downloads.cs.stanford.edu)... 171.64.64.22\n",
            "Connecting to downloads.cs.stanford.edu (downloads.cs.stanford.edu)|171.64.64.22|:80... connected.\n",
            "HTTP request sent, awaiting response... 200 OK\n",
            "Length: 862182613 (822M) [application/zip]\n",
            "Saving to: ‘glove.6B.zip.1’\n",
            "\n",
            "glove.6B.zip.1      100%[===================>] 822.24M  2.06MB/s    in 6m 27s  \n",
            "\n",
            "2020-07-30 07:39:51 (2.12 MB/s) - ‘glove.6B.zip.1’ saved [862182613/862182613]\n",
            "\n"
          ],
          "name": "stdout"
        }
      ]
    },
    {
      "cell_type": "code",
      "metadata": {
        "id": "JGB77EWMc5UL",
        "colab_type": "code",
        "colab": {
          "base_uri": "https://localhost:8080/",
          "height": 102
        },
        "outputId": "c7af7f02-2097-44ab-f5aa-117b01171b8b"
      },
      "source": [
        "!unzip glove*.zip.1"
      ],
      "execution_count": null,
      "outputs": [
        {
          "output_type": "stream",
          "text": [
            "Archive:  glove.6B.zip.1\n",
            "  inflating: glove.6B.50d.txt        \n",
            "  inflating: glove.6B.100d.txt       \n",
            "  inflating: glove.6B.200d.txt       \n",
            "  inflating: glove.6B.300d.txt       \n"
          ],
          "name": "stdout"
        }
      ]
    },
    {
      "cell_type": "code",
      "metadata": {
        "id": "JlSGV3KOdDc4",
        "colab_type": "code",
        "colab": {
          "base_uri": "https://localhost:8080/",
          "height": 68
        },
        "outputId": "536bd9f7-9a7f-4098-e4d7-9bab928afc46"
      },
      "source": [
        "!ls\n",
        "!pwd"
      ],
      "execution_count": null,
      "outputs": [
        {
          "output_type": "stream",
          "text": [
            "glove.6B.100d.txt  glove.6B.300d.txt  glove.6B.zip    sample_data\n",
            "glove.6B.200d.txt  glove.6B.50d.txt   glove.6B.zip.1  taleoftwocities.txt\n",
            "/content\n"
          ],
          "name": "stdout"
        }
      ]
    },
    {
      "cell_type": "code",
      "metadata": {
        "id": "m96WwPuFbEpP",
        "colab_type": "code",
        "colab": {
          "base_uri": "https://localhost:8080/",
          "height": 34
        },
        "outputId": "37db45e0-d81f-4a65-ad74-3c77445d27c6"
      },
      "source": [
        "# load the whole embedding into memory\n",
        "embeddings_index = dict()\n",
        "f = open('/content/glove.6B.300d.txt')\n",
        "\n",
        "for line in f:\n",
        "    values = line.split()\n",
        "    word = values[0]\n",
        "    coefs = np.asarray(values[1:], dtype='float32')\n",
        "    embeddings_index[word] = coefs\n",
        "\n",
        "f.close()\n",
        "print('Loaded %s word vectors.' % len(embeddings_index))"
      ],
      "execution_count": null,
      "outputs": [
        {
          "output_type": "stream",
          "text": [
            "Loaded 400000 word vectors.\n"
          ],
          "name": "stdout"
        }
      ]
    },
    {
      "cell_type": "code",
      "metadata": {
        "id": "u_z8s4NIZzXi",
        "colab_type": "code",
        "colab": {}
      },
      "source": [
        "# create a weight matrix for words in training docs\n",
        "embedding_matrix = np.zeros((vocabulary_size, 300))\n",
        "\n",
        "for word, i in tokenizer.word_index.items():\n",
        "    embedding_vector = embeddings_index.get(word)\n",
        "    if embedding_vector is not None:\n",
        "        embedding_matrix[i] = embedding_vector"
      ],
      "execution_count": null,
      "outputs": []
    },
    {
      "cell_type": "code",
      "metadata": {
        "id": "331ppsm6daop",
        "colab_type": "code",
        "colab": {
          "base_uri": "https://localhost:8080/",
          "height": 969
        },
        "outputId": "b05caae8-b32e-427f-a354-c9e68f26e041"
      },
      "source": [
        "from keras.models import Sequential, load_model\n",
        "from keras.callbacks import ModelCheckpoint, EarlyStopping\n",
        "from keras.layers import GlobalMaxPooling1D\n",
        "from keras.layers import Dense\n",
        "from keras.layers import LSTM\n",
        "from keras.layers import Embedding\n",
        "import tensorflow as tf\n",
        "\n",
        "#embedding layer\n",
        "\n",
        "model = Sequential()\n",
        "model.add(Embedding(vocabulary_size,300,weights=[embedding_matrix],input_length=seq_len,trainable=False)) \n",
        "model.add(LSTM(60,return_sequences=True))\n",
        "model.add(LSTM(60))\n",
        "model.add(Dense(60,activation='relu'))\n",
        "model.add(Dense(vocabulary_size, activation='softmax'))\n",
        "print(model.summary())\n",
        "\n",
        "callback = tf.keras.callbacks.EarlyStopping(monitor='val_accuracy', patience=4)\n",
        "\n",
        "model.compile(loss='categorical_crossentropy', optimizer= 'adam', metrics=['accuracy'])\n",
        "history = model.fit(train_inputs,train_targets,validation_split=0.1,epochs=20,batch_size=128,shuffle=True,callbacks=[callback])"
      ],
      "execution_count": null,
      "outputs": [
        {
          "output_type": "stream",
          "text": [
            "Model: \"sequential_2\"\n",
            "_________________________________________________________________\n",
            "Layer (type)                 Output Shape              Param #   \n",
            "=================================================================\n",
            "embedding_2 (Embedding)      (None, 3, 300)            2920200   \n",
            "_________________________________________________________________\n",
            "lstm_3 (LSTM)                (None, 3, 60)             86640     \n",
            "_________________________________________________________________\n",
            "lstm_4 (LSTM)                (None, 60)                29040     \n",
            "_________________________________________________________________\n",
            "dense_3 (Dense)              (None, 60)                3660      \n",
            "_________________________________________________________________\n",
            "dense_4 (Dense)              (None, 9734)              593774    \n",
            "=================================================================\n",
            "Total params: 3,633,314\n",
            "Trainable params: 713,114\n",
            "Non-trainable params: 2,920,200\n",
            "_________________________________________________________________\n",
            "None\n",
            "Train on 124320 samples, validate on 13814 samples\n",
            "Epoch 1/20\n",
            "124320/124320 [==============================] - 65s 523us/step - loss: 6.6656 - accuracy: 0.0582 - val_loss: 6.4782 - val_accuracy: 0.0522\n",
            "Epoch 2/20\n",
            "124320/124320 [==============================] - 60s 480us/step - loss: 6.2218 - accuracy: 0.0764 - val_loss: 6.1716 - val_accuracy: 0.0772\n",
            "Epoch 3/20\n",
            "124320/124320 [==============================] - 60s 479us/step - loss: 5.9143 - accuracy: 0.0971 - val_loss: 6.0889 - val_accuracy: 0.0864\n",
            "Epoch 4/20\n",
            "124320/124320 [==============================] - 59s 474us/step - loss: 5.7424 - accuracy: 0.1060 - val_loss: 6.0048 - val_accuracy: 0.0983\n",
            "Epoch 5/20\n",
            "124320/124320 [==============================] - 56s 451us/step - loss: 5.6102 - accuracy: 0.1158 - val_loss: 5.9518 - val_accuracy: 0.1040\n",
            "Epoch 6/20\n",
            "124320/124320 [==============================] - 59s 475us/step - loss: 5.4963 - accuracy: 0.1219 - val_loss: 5.9551 - val_accuracy: 0.1114\n",
            "Epoch 7/20\n",
            "124320/124320 [==============================] - 58s 467us/step - loss: 5.3962 - accuracy: 0.1261 - val_loss: 5.9579 - val_accuracy: 0.1128\n",
            "Epoch 8/20\n",
            "124320/124320 [==============================] - 58s 464us/step - loss: 5.3077 - accuracy: 0.1286 - val_loss: 5.9785 - val_accuracy: 0.1145\n",
            "Epoch 9/20\n",
            "124320/124320 [==============================] - 58s 468us/step - loss: 5.2238 - accuracy: 0.1327 - val_loss: 6.0271 - val_accuracy: 0.1165\n",
            "Epoch 10/20\n",
            "124320/124320 [==============================] - 57s 461us/step - loss: 5.1445 - accuracy: 0.1352 - val_loss: 6.0493 - val_accuracy: 0.1192\n",
            "Epoch 11/20\n",
            "124320/124320 [==============================] - 58s 464us/step - loss: 5.0679 - accuracy: 0.1385 - val_loss: 6.1267 - val_accuracy: 0.1205\n",
            "Epoch 12/20\n",
            "124320/124320 [==============================] - 56s 453us/step - loss: 4.9906 - accuracy: 0.1412 - val_loss: 6.2355 - val_accuracy: 0.1226\n",
            "Epoch 13/20\n",
            "124320/124320 [==============================] - 58s 465us/step - loss: 4.9191 - accuracy: 0.1442 - val_loss: 6.3681 - val_accuracy: 0.1235\n",
            "Epoch 14/20\n",
            "124320/124320 [==============================] - 58s 467us/step - loss: 4.8490 - accuracy: 0.1463 - val_loss: 6.4741 - val_accuracy: 0.1249\n",
            "Epoch 15/20\n",
            "124320/124320 [==============================] - 58s 467us/step - loss: 4.7833 - accuracy: 0.1479 - val_loss: 6.6160 - val_accuracy: 0.1228\n",
            "Epoch 16/20\n",
            "124320/124320 [==============================] - 62s 497us/step - loss: 4.7218 - accuracy: 0.1498 - val_loss: 6.8100 - val_accuracy: 0.1242\n",
            "Epoch 17/20\n",
            "124320/124320 [==============================] - 54s 435us/step - loss: 4.6618 - accuracy: 0.1526 - val_loss: 6.9756 - val_accuracy: 0.1246\n",
            "Epoch 18/20\n",
            "124320/124320 [==============================] - 54s 431us/step - loss: 4.6070 - accuracy: 0.1551 - val_loss: 7.1617 - val_accuracy: 0.1237\n"
          ],
          "name": "stdout"
        }
      ]
    },
    {
      "cell_type": "code",
      "metadata": {
        "colab_type": "code",
        "id": "OEd3zWJJk3X8",
        "colab": {
          "base_uri": "https://localhost:8080/",
          "height": 102
        },
        "outputId": "68b1544d-46ac-4949-80eb-ceae9377bc14"
      },
      "source": [
        "from keras.preprocessing.sequence import pad_sequences\n",
        "input_text = input().strip().lower()\n",
        "encoded_text = tokenizer.texts_to_sequences([input_text])[0]\n",
        "pad_encoded = pad_sequences([encoded_text], maxlen=seq_len, truncating='pre')\n",
        "print(encoded_text, pad_encoded)\n",
        "for i in (model.predict(pad_encoded)[0]).argsort()[-3:][::-1]:\n",
        "  pred_word = tokenizer.index_word[i]\n",
        "  print(\"Next word suggestion:\",pred_word)"
      ],
      "execution_count": null,
      "outputs": [
        {
          "output_type": "stream",
          "text": [
            "there was a\n",
            "[33, 12, 5] [[33 12  5]]\n",
            "Next word suggestion: little\n",
            "Next word suggestion: few\n",
            "Next word suggestion: long\n"
          ],
          "name": "stdout"
        }
      ]
    },
    {
      "cell_type": "markdown",
      "metadata": {
        "id": "VJ-9vQiFNYLr",
        "colab_type": "text"
      },
      "source": [
        "Model Evaluation"
      ]
    },
    {
      "cell_type": "code",
      "metadata": {
        "colab_type": "code",
        "id": "WhcIwli3l-I7",
        "colab": {
          "base_uri": "https://localhost:8080/",
          "height": 34
        },
        "outputId": "41567de6-d9fc-4ce3-f797-a7f2f0027930"
      },
      "source": [
        "model.evaluate(train_inputs,train_targets,verbose=0)"
      ],
      "execution_count": null,
      "outputs": [
        {
          "output_type": "execute_result",
          "data": {
            "text/plain": [
              "[4.745074044414187, 0.15740512311458588]"
            ]
          },
          "metadata": {
            "tags": []
          },
          "execution_count": 22
        }
      ]
    },
    {
      "cell_type": "code",
      "metadata": {
        "colab_type": "code",
        "id": "GneHCh9EmDhd",
        "colab": {
          "base_uri": "https://localhost:8080/",
          "height": 312
        },
        "outputId": "ade39d92-6f53-4970-e702-9dd0f41bd098"
      },
      "source": [
        "plt.plot(history.history['accuracy'])\n",
        "plt.plot(history.history['val_accuracy'])\n",
        "plt.title('model accuracy')\n",
        "plt.ylabel('accuracy')\n",
        "plt.xlabel('epoch')\n",
        "plt.legend(['train', 'val'], loc='upper left')\n"
      ],
      "execution_count": null,
      "outputs": [
        {
          "output_type": "execute_result",
          "data": {
            "text/plain": [
              "<matplotlib.legend.Legend at 0x7f68ab84d0f0>"
            ]
          },
          "metadata": {
            "tags": []
          },
          "execution_count": 23
        },
        {
          "output_type": "display_data",
          "data": {
            "image/png": "[encoded data removed]",
            "text/plain": [
              "<Figure size 432x288 with 1 Axes>"
            ]
          },
          "metadata": {
            "tags": [],
            "needs_background": "light"
          }
        }
      ]
    },
    {
      "cell_type": "code",
      "metadata": {
        "colab_type": "code",
        "id": "VpZPZV-bmJae",
        "colab": {
          "base_uri": "https://localhost:8080/",
          "height": 312
        },
        "outputId": "cbebbe43-9f26-4666-ebd4-d7960fab8de6"
      },
      "source": [
        "plt.plot(history.history['loss'])\n",
        "plt.plot(history.history['val_loss'])\n",
        "plt.title('model loss')\n",
        "plt.ylabel('loss')\n",
        "plt.xlabel('epoch')\n",
        "plt.legend(['train', 'val'], loc='upper left')"
      ],
      "execution_count": null,
      "outputs": [
        {
          "output_type": "execute_result",
          "data": {
            "text/plain": [
              "<matplotlib.legend.Legend at 0x7f68ab7e6470>"
            ]
          },
          "metadata": {
            "tags": []
          },
          "execution_count": 24
        },
        {
          "output_type": "display_data",
          "data": {
            "image/png": "[encoded data removed]",
            "text/plain": [
              "<Figure size 432x288 with 1 Axes>"
            ]
          },
          "metadata": {
            "tags": [],
            "needs_background": "light"
          }
        }
      ]
    }
  ]
}